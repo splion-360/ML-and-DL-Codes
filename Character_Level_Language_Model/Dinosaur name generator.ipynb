{
 "cells": [
  {
   "cell_type": "code",
   "execution_count": 1,
   "id": "informal-halloween",
   "metadata": {},
   "outputs": [],
   "source": [
    "import os\n",
    "import numpy as np\n",
    "import matplotlib.pyplot as plt\n",
    "import pandas as pd"
   ]
  },
  {
   "cell_type": "code",
   "execution_count": 2,
   "id": "parliamentary-collaboration",
   "metadata": {},
   "outputs": [],
   "source": [
    "with open('./deep-learning-notes/dinos.txt','r') as dino:\n",
    "    dinos = dino.read()"
   ]
  },
  {
   "cell_type": "code",
   "execution_count": 3,
   "id": "adequate-southeast",
   "metadata": {},
   "outputs": [],
   "source": [
    "dinos = dinos.lower()"
   ]
  },
  {
   "cell_type": "code",
   "execution_count": 4,
   "id": "independent-california",
   "metadata": {},
   "outputs": [],
   "source": [
    "new = []\n",
    "char  = \"\"\n",
    "for ch in dinos:\n",
    "    \n",
    "    if ch != '\\n':\n",
    "        char = char + ch\n",
    "    else:\n",
    "        new.append(len(char))\n",
    "        char = \"\""
   ]
  },
  {
   "cell_type": "code",
   "execution_count": 6,
   "id": "according-experience",
   "metadata": {},
   "outputs": [],
   "source": [
    "new = np.array(new)"
   ]
  },
  {
   "cell_type": "code",
   "execution_count": 7,
   "id": "radical-pocket",
   "metadata": {},
   "outputs": [
    {
     "data": {
      "text/plain": [
       "11.96742671009772"
      ]
     },
     "execution_count": 7,
     "metadata": {},
     "output_type": "execute_result"
    }
   ],
   "source": [
    "new.mean()"
   ]
  },
  {
   "cell_type": "code",
   "execution_count": 12,
   "id": "disabled-poison",
   "metadata": {},
   "outputs": [],
   "source": [
    "char = list(set(dinos))"
   ]
  },
  {
   "cell_type": "code",
   "execution_count": 13,
   "id": "proof-insured",
   "metadata": {},
   "outputs": [
    {
     "data": {
      "text/plain": [
       "['s',\n",
       " 'y',\n",
       " 'n',\n",
       " 't',\n",
       " 'v',\n",
       " 'q',\n",
       " 'f',\n",
       " 'j',\n",
       " 'd',\n",
       " 'a',\n",
       " 'k',\n",
       " 'l',\n",
       " 'z',\n",
       " 'g',\n",
       " 'r',\n",
       " 'w',\n",
       " 'h',\n",
       " 'e',\n",
       " 'b',\n",
       " 'i',\n",
       " 'm',\n",
       " 'p',\n",
       " '\\n',\n",
       " 'u',\n",
       " 'o',\n",
       " 'c',\n",
       " 'x']"
      ]
     },
     "execution_count": 13,
     "metadata": {},
     "output_type": "execute_result"
    }
   ],
   "source": [
    "char"
   ]
  },
  {
   "cell_type": "code",
   "execution_count": 14,
   "id": "formed-meaning",
   "metadata": {},
   "outputs": [],
   "source": [
    "char_to_idx = {c:i for i,c in enumerate(sorted(char))}"
   ]
  },
  {
   "cell_type": "code",
   "execution_count": 15,
   "id": "constitutional-network",
   "metadata": {},
   "outputs": [],
   "source": [
    "idx_to_char = {i:c for i,c in enumerate(sorted(char))}"
   ]
  },
  {
   "cell_type": "code",
   "execution_count": 16,
   "id": "nearby-living",
   "metadata": {},
   "outputs": [],
   "source": [
    "text = np.array([char_to_idx[c] for c in dinos])"
   ]
  },
  {
   "cell_type": "code",
   "execution_count": 17,
   "id": "stylish-trust",
   "metadata": {},
   "outputs": [
    {
     "data": {
      "text/plain": [
       "(19909,)"
      ]
     },
     "execution_count": 17,
     "metadata": {},
     "output_type": "execute_result"
    }
   ],
   "source": [
    "text.shape"
   ]
  },
  {
   "cell_type": "code",
   "execution_count": 18,
   "id": "natural-cable",
   "metadata": {},
   "outputs": [
    {
     "data": {
      "text/plain": [
       "array([ 1,  1,  3,  8,  5, 14, 15, 19,  1, 21, 18, 21, 19,  0,  1,  1, 18,\n",
       "        4, 15, 14, 25, 24,  0,  1,  2,  4,  1, 12, 12,  1,  8, 19,  1, 21,\n",
       "       18, 21, 19,  0,  1,  2,  5, 12,  9, 19,  1, 21, 18, 21, 19,  0,  1,\n",
       "        2, 18,  9,  3, 20, 15, 19,  1, 21, 18, 21, 19,  0,  1,  2, 18, 15,\n",
       "       19,  1, 21, 18, 21, 19,  0,  1,  2, 25,  4, 15, 19,  1, 21, 18, 21,\n",
       "       19,  0,  1,  3,  1, 14, 20,  8, 15, 16,  8, 15, 12,  9, 19,  0,  1,\n",
       "        3,  8,  5, 12, 15, 21, 19,  1, 21, 18, 21, 19,  0,  1,  3,  8,  5,\n",
       "       18, 15, 18,  1, 16, 20, 15, 18,  0,  1,  3,  8,  9, 12, 12,  5, 19,\n",
       "        1, 21, 18, 21, 19,  0,  1,  3,  8,  9, 12, 12, 15,  2,  1, 20, 15,\n",
       "       18,  0,  1,  3, 18,  9, 19, 20,  1, 22, 21, 19,  0,  1,  3, 18, 15,\n",
       "        3,  1, 14, 20,  8, 15, 19,  1, 21, 18, 21, 19,  0,  1,  3, 18, 15,\n",
       "       20,  8, 15, 12, 21, 19,  0,  1,  3, 20,  9, 15, 19,  1, 21, 18, 21,\n",
       "       19,  0,  1,  4,  1, 13,  1, 14, 20,  9, 19,  1, 21, 18, 21, 19,  0,\n",
       "        1,  4,  1, 19,  1, 21, 18, 21, 19,  0,  1,  4,  5, 12, 15, 12, 15,\n",
       "       16,  8, 21, 19,  0,  1,  4,  5, 15, 16,  1, 16, 16, 15, 19,  1, 21,\n",
       "       18, 21, 19,  0,  1,  5,  7, 25, 16, 20, 15, 19,  1, 21, 18, 21, 19,\n",
       "        0,  1,  5, 15, 12, 15, 19,  1, 21, 18, 21, 19,  0,  1,  5, 16,  9,\n",
       "       19,  1, 21, 18, 21, 19,  0,  1,  5, 16, 25, 15, 18, 14,  9, 20,  8,\n",
       "       15, 13,  9, 13, 21, 19,  0,  1,  5, 18, 15, 19, 20,  5, 15, 14,  0,\n",
       "        1,  5, 20, 15, 14, 25, 24,  1,  6, 18, 15, 13,  9, 13, 21, 19,  0,\n",
       "        1,  6, 18, 15, 22,  5, 14,  1, 20, 15, 18,  0,  1,  7,  1, 20,  8,\n",
       "        1, 21, 13,  1, 19,  0,  1,  7,  7,  9, 15, 19,  1, 21, 18, 21, 19,\n",
       "        0,  1,  7,  9, 12,  9, 19,  1, 21, 18, 21, 19,  0,  1,  7, 14, 15,\n",
       "       19, 16,  8,  9, 20, 25, 19,  0,  1,  7, 18, 15, 19,  1, 21, 18, 21,\n",
       "       19,  0,  1,  7, 21, 10,  1,  3,  5, 18,  1, 20, 15, 16, 19,  0,  1,\n",
       "        7, 21, 19, 20,  9, 14,  9,  1,  0,  1,  8, 19,  8,  9, 19, 12,  5,\n",
       "       16,  5, 12, 20,  1,  0,  1,  9, 18,  1, 11, 15, 18,  1, 16, 20, 15,\n",
       "       18,  0,  1, 10,  1, 14,  3,  9, 14,  7,  5, 14,  9,  1,  0,  1, 10,\n",
       "       11,  1,  3,  5, 18,  1, 20, 15, 16, 19,  0,  1, 12,  1, 13, 15, 19,\n",
       "        1, 21, 18, 21, 19,  0,  1])"
      ]
     },
     "execution_count": 18,
     "metadata": {},
     "output_type": "execute_result"
    }
   ],
   "source": [
    "text[:500]"
   ]
  },
  {
   "cell_type": "code",
   "execution_count": 19,
   "id": "excess-retrieval",
   "metadata": {},
   "outputs": [],
   "source": [
    "import tensorflow as tf"
   ]
  },
  {
   "cell_type": "code",
   "execution_count": 20,
   "id": "excited-upper",
   "metadata": {},
   "outputs": [],
   "source": [
    "sam_len = 20"
   ]
  },
  {
   "cell_type": "code",
   "execution_count": 21,
   "id": "removed-coupon",
   "metadata": {},
   "outputs": [],
   "source": [
    "char_dataset = tf.data.Dataset.from_tensor_slices(text)"
   ]
  },
  {
   "cell_type": "code",
   "execution_count": 22,
   "id": "stuffed-translation",
   "metadata": {},
   "outputs": [],
   "source": [
    "name_seq =  char_dataset.batch(sam_len+1,drop_remainder=True)"
   ]
  },
  {
   "cell_type": "code",
   "execution_count": 23,
   "id": "behavioral-vehicle",
   "metadata": {},
   "outputs": [],
   "source": [
    "def create_seq(seq):\n",
    "    input_txt = seq[:-1]\n",
    "    target_txt = seq[1:]\n",
    "    \n",
    "    return input_txt,target_txt"
   ]
  },
  {
   "cell_type": "code",
   "execution_count": 24,
   "id": "recorded-circumstances",
   "metadata": {},
   "outputs": [],
   "source": [
    "dataset  = name_seq.map(create_seq)"
   ]
  },
  {
   "cell_type": "code",
   "execution_count": 25,
   "id": "popular-sample",
   "metadata": {},
   "outputs": [
    {
     "name": "stdout",
     "output_type": "stream",
     "text": [
      "aachenosaurus\n",
      "aardon\n",
      "achenosaurus\n",
      "aardony\n"
     ]
    }
   ],
   "source": [
    "for input_txt,target_txt in dataset.take(1):\n",
    "    print(\"\".join(idx_to_char[ch] for ch in input_txt.numpy()))\n",
    "    print(\"\".join(idx_to_char[ch] for ch in target_txt.numpy()))"
   ]
  },
  {
   "cell_type": "code",
   "execution_count": 26,
   "id": "false-cemetery",
   "metadata": {},
   "outputs": [],
   "source": [
    "buffersize = 1000\n",
    "batch_size = 64\n",
    "dataset = dataset.shuffle(buffersize).batch(batch_size,drop_remainder=True)"
   ]
  },
  {
   "cell_type": "code",
   "execution_count": 27,
   "id": "interested-burden",
   "metadata": {},
   "outputs": [],
   "source": [
    "embed_dim = 32"
   ]
  },
  {
   "cell_type": "code",
   "execution_count": 28,
   "id": "generic-ancient",
   "metadata": {},
   "outputs": [],
   "source": [
    "vocab_size = len(char)"
   ]
  },
  {
   "cell_type": "code",
   "execution_count": 29,
   "id": "funky-settlement",
   "metadata": {},
   "outputs": [],
   "source": [
    "rnn_neurons = 1024"
   ]
  },
  {
   "cell_type": "code",
   "execution_count": 30,
   "id": "reduced-ecuador",
   "metadata": {},
   "outputs": [],
   "source": [
    "from tensorflow.keras.losses import sparse_categorical_crossentropy"
   ]
  },
  {
   "cell_type": "code",
   "execution_count": 31,
   "id": "manufactured-grill",
   "metadata": {},
   "outputs": [],
   "source": [
    "def sparse_cat_loss(y_true,y_pred):\n",
    "    return sparse_categorical_crossentropy(y_true,y_pred,from_logits=True)"
   ]
  },
  {
   "cell_type": "code",
   "execution_count": 32,
   "id": "virtual-specification",
   "metadata": {},
   "outputs": [],
   "source": [
    "from tensorflow.keras.models import Sequential\n",
    "from keras.layers import GRU,Embedding,Dense"
   ]
  },
  {
   "cell_type": "code",
   "execution_count": 33,
   "id": "magnetic-lyric",
   "metadata": {},
   "outputs": [],
   "source": [
    "def create_model(vocab_size, embed_dim, rnn_neurons, batch_size):\n",
    "    model = Sequential()\n",
    "    model.add(Embedding(vocab_size, embed_dim,batch_input_shape=[batch_size, None]))\n",
    "    model.add(GRU(rnn_neurons,return_sequences=True,stateful=True,recurrent_initializer='glorot_uniform'))\n",
    "    # Final Dense Layer to Predict\n",
    "    model.add(Dense(vocab_size))\n",
    "    model.compile(optimizer='adam', loss=sparse_cat_loss) \n",
    "    return model"
   ]
  },
  {
   "cell_type": "code",
   "execution_count": 34,
   "id": "affected-science",
   "metadata": {},
   "outputs": [],
   "source": [
    "model = create_model(vocab_size,embed_dim,rnn_neurons,batch_size)"
   ]
  },
  {
   "cell_type": "code",
   "execution_count": 35,
   "id": "permanent-grain",
   "metadata": {},
   "outputs": [
    {
     "name": "stdout",
     "output_type": "stream",
     "text": [
      "Model: \"sequential\"\n",
      "_________________________________________________________________\n",
      "Layer (type)                 Output Shape              Param #   \n",
      "=================================================================\n",
      "embedding (Embedding)        (64, None, 32)            864       \n",
      "_________________________________________________________________\n",
      "gru (GRU)                    (64, None, 1024)          3250176   \n",
      "_________________________________________________________________\n",
      "dense (Dense)                (64, None, 27)            27675     \n",
      "=================================================================\n",
      "Total params: 3,278,715\n",
      "Trainable params: 3,278,715\n",
      "Non-trainable params: 0\n",
      "_________________________________________________________________\n"
     ]
    }
   ],
   "source": [
    "model.summary()"
   ]
  },
  {
   "cell_type": "code",
   "execution_count": 36,
   "id": "confident-roller",
   "metadata": {},
   "outputs": [
    {
     "name": "stdout",
     "output_type": "stream",
     "text": [
      "Epoch 1/50\n",
      "14/14 [==============================] - 13s 786ms/step - loss: 3.6339\n",
      "Epoch 2/50\n",
      "14/14 [==============================] - 11s 801ms/step - loss: 3.1953\n",
      "Epoch 3/50\n",
      "14/14 [==============================] - 11s 789ms/step - loss: 3.0170\n",
      "Epoch 4/50\n",
      "14/14 [==============================] - 11s 788ms/step - loss: 2.7413\n",
      "Epoch 5/50\n",
      "14/14 [==============================] - 11s 786ms/step - loss: 2.6077\n",
      "Epoch 6/50\n",
      "14/14 [==============================] - 11s 785ms/step - loss: 2.4499\n",
      "Epoch 7/50\n",
      "14/14 [==============================] - 11s 782ms/step - loss: 2.2804\n",
      "Epoch 8/50\n",
      "14/14 [==============================] - 11s 780ms/step - loss: 2.1710\n",
      "Epoch 9/50\n",
      "14/14 [==============================] - 11s 781ms/step - loss: 2.1019\n",
      "Epoch 10/50\n",
      "14/14 [==============================] - 11s 781ms/step - loss: 2.0778\n",
      "Epoch 11/50\n",
      "14/14 [==============================] - 11s 783ms/step - loss: 2.0051\n",
      "Epoch 12/50\n",
      "14/14 [==============================] - 11s 783ms/step - loss: 1.9727\n",
      "Epoch 13/50\n",
      "14/14 [==============================] - 11s 792ms/step - loss: 1.9463\n",
      "Epoch 14/50\n",
      "14/14 [==============================] - 11s 779ms/step - loss: 1.9632\n",
      "Epoch 15/50\n",
      "14/14 [==============================] - 11s 794ms/step - loss: 1.9188\n",
      "Epoch 16/50\n",
      "14/14 [==============================] - 11s 784ms/step - loss: 1.9175\n",
      "Epoch 17/50\n",
      "14/14 [==============================] - 11s 784ms/step - loss: 1.8489\n",
      "Epoch 18/50\n",
      "14/14 [==============================] - 11s 780ms/step - loss: 1.8481\n",
      "Epoch 19/50\n",
      "14/14 [==============================] - 11s 783ms/step - loss: 1.8557\n",
      "Epoch 20/50\n",
      "14/14 [==============================] - 11s 777ms/step - loss: 1.8475\n",
      "Epoch 21/50\n",
      "14/14 [==============================] - 11s 776ms/step - loss: 1.7840\n",
      "Epoch 22/50\n",
      "14/14 [==============================] - 11s 775ms/step - loss: 1.7975\n",
      "Epoch 23/50\n",
      "14/14 [==============================] - 11s 809ms/step - loss: 1.7701\n",
      "Epoch 24/50\n",
      "14/14 [==============================] - 11s 783ms/step - loss: 1.7522\n",
      "Epoch 25/50\n",
      "14/14 [==============================] - 11s 776ms/step - loss: 1.7460\n",
      "Epoch 26/50\n",
      "14/14 [==============================] - 11s 773ms/step - loss: 1.7338\n",
      "Epoch 27/50\n",
      "14/14 [==============================] - 11s 780ms/step - loss: 1.6957\n",
      "Epoch 28/50\n",
      "14/14 [==============================] - 11s 774ms/step - loss: 1.7032\n",
      "Epoch 29/50\n",
      "14/14 [==============================] - 11s 774ms/step - loss: 1.6839\n",
      "Epoch 30/50\n",
      "14/14 [==============================] - 11s 773ms/step - loss: 1.6534\n",
      "Epoch 31/50\n",
      "14/14 [==============================] - 11s 792ms/step - loss: 1.6573\n",
      "Epoch 32/50\n",
      "14/14 [==============================] - 11s 775ms/step - loss: 1.6044\n",
      "Epoch 33/50\n",
      "14/14 [==============================] - 11s 776ms/step - loss: 1.6065\n",
      "Epoch 34/50\n",
      "14/14 [==============================] - 11s 777ms/step - loss: 1.5620\n",
      "Epoch 35/50\n",
      "14/14 [==============================] - 11s 779ms/step - loss: 1.5439\n",
      "Epoch 36/50\n",
      "14/14 [==============================] - 11s 775ms/step - loss: 1.5371\n",
      "Epoch 37/50\n",
      "14/14 [==============================] - 11s 773ms/step - loss: 1.4930\n",
      "Epoch 38/50\n",
      "14/14 [==============================] - 11s 778ms/step - loss: 1.4666\n",
      "Epoch 39/50\n",
      "14/14 [==============================] - 11s 774ms/step - loss: 1.4225\n",
      "Epoch 40/50\n",
      "14/14 [==============================] - 11s 776ms/step - loss: 1.3839\n",
      "Epoch 41/50\n",
      "14/14 [==============================] - 11s 774ms/step - loss: 1.3661\n",
      "Epoch 42/50\n",
      "14/14 [==============================] - 11s 777ms/step - loss: 1.3264\n",
      "Epoch 43/50\n",
      "14/14 [==============================] - 11s 775ms/step - loss: 1.2827\n",
      "Epoch 44/50\n",
      "14/14 [==============================] - 11s 774ms/step - loss: 1.2545\n",
      "Epoch 45/50\n",
      "14/14 [==============================] - 11s 784ms/step - loss: 1.2143\n",
      "Epoch 46/50\n",
      "14/14 [==============================] - 11s 775ms/step - loss: 1.1797\n",
      "Epoch 47/50\n",
      "14/14 [==============================] - 11s 783ms/step - loss: 1.1367\n",
      "Epoch 48/50\n",
      "14/14 [==============================] - 11s 778ms/step - loss: 1.0964\n",
      "Epoch 49/50\n",
      "14/14 [==============================] - 11s 775ms/step - loss: 1.0569\n",
      "Epoch 50/50\n",
      "14/14 [==============================] - 11s 775ms/step - loss: 1.0196\n"
     ]
    },
    {
     "data": {
      "text/plain": [
       "<tensorflow.python.keras.callbacks.History at 0x7efb9814ddc0>"
      ]
     },
     "execution_count": 36,
     "metadata": {},
     "output_type": "execute_result"
    }
   ],
   "source": [
    "epochs = 50\n",
    "model.fit(dataset,epochs = epochs,verbose=1)"
   ]
  },
  {
   "cell_type": "code",
   "execution_count": 37,
   "id": "integrated-donor",
   "metadata": {},
   "outputs": [],
   "source": [
    "def generate_text(model, start_seed,gen_size=100,temp=1.0):   \n",
    "\n",
    "    # Number of characters to generate\n",
    "    num_generate = gen_size\n",
    "\n",
    "    # Vecotrizing starting seed text\n",
    "    input_eval = [char_to_idx[s] for s in start_seed]\n",
    "\n",
    "    # Expand to match batch format shape\n",
    "    input_eval = tf.expand_dims(input_eval, 0)\n",
    "\n",
    "    # Empty list to hold resulting generated text\n",
    "    text_generated = []\n",
    "\n",
    "    # Temperature effects randomness in our resulting text\n",
    "    # The term is derived from entropy/thermodynamics.\n",
    "    # The temperature is used to effect probability of next characters.\n",
    "    # Higher probability == lesss surprising/ more expected\n",
    "    # Lower temperature == more surprising / less expected\n",
    "\n",
    "    temperature = temp\n",
    "\n",
    "    # Here batch size == 1\n",
    "    model.reset_states()\n",
    "\n",
    "    for i in range(num_generate):\n",
    "\n",
    "# Generate Predictions\n",
    "        predictions = model(input_eval)\n",
    "\n",
    "# Remove the batch shape dimension\n",
    "        predictions = tf.squeeze(predictions, 0)\n",
    "\n",
    "# Use a cateogircal disitribution to select the next character\n",
    "        predictions = predictions / temperature\n",
    "        predicted_id = tf.random.categorical(predictions, num_samples=1)[-1,0].numpy()\n",
    "\n",
    "# Pass the predicted charracter for the next input\n",
    "        input_eval = tf.expand_dims([predicted_id], 0)\n",
    "\n",
    "# Transform back to character letter\n",
    "        text_generated.append(idx_to_char[predicted_id])\n",
    "\n",
    "    return (start_seed + ''.join(text_generated))"
   ]
  },
  {
   "cell_type": "code",
   "execution_count": 38,
   "id": "collected-telescope",
   "metadata": {},
   "outputs": [
    {
     "data": {
      "text/html": [
       "<div>\n",
       "<style scoped>\n",
       "    .dataframe tbody tr th:only-of-type {\n",
       "        vertical-align: middle;\n",
       "    }\n",
       "\n",
       "    .dataframe tbody tr th {\n",
       "        vertical-align: top;\n",
       "    }\n",
       "\n",
       "    .dataframe thead th {\n",
       "        text-align: right;\n",
       "    }\n",
       "</style>\n",
       "<table border=\"1\" class=\"dataframe\">\n",
       "  <thead>\n",
       "    <tr style=\"text-align: right;\">\n",
       "      <th></th>\n",
       "      <th>loss</th>\n",
       "    </tr>\n",
       "  </thead>\n",
       "  <tbody>\n",
       "    <tr>\n",
       "      <th>0</th>\n",
       "      <td>3.669472</td>\n",
       "    </tr>\n",
       "    <tr>\n",
       "      <th>1</th>\n",
       "      <td>3.173765</td>\n",
       "    </tr>\n",
       "    <tr>\n",
       "      <th>2</th>\n",
       "      <td>2.937030</td>\n",
       "    </tr>\n",
       "    <tr>\n",
       "      <th>3</th>\n",
       "      <td>2.716039</td>\n",
       "    </tr>\n",
       "    <tr>\n",
       "      <th>4</th>\n",
       "      <td>2.589468</td>\n",
       "    </tr>\n",
       "  </tbody>\n",
       "</table>\n",
       "</div>"
      ],
      "text/plain": [
       "       loss\n",
       "0  3.669472\n",
       "1  3.173765\n",
       "2  2.937030\n",
       "3  2.716039\n",
       "4  2.589468"
      ]
     },
     "execution_count": 38,
     "metadata": {},
     "output_type": "execute_result"
    }
   ],
   "source": [
    "loss = pd.DataFrame(model.history.history)\n",
    "loss.head()"
   ]
  },
  {
   "cell_type": "code",
   "execution_count": 39,
   "id": "spatial-liechtenstein",
   "metadata": {},
   "outputs": [
    {
     "data": {
      "text/plain": [
       "<AxesSubplot:>"
      ]
     },
     "execution_count": 39,
     "metadata": {},
     "output_type": "execute_result"
    },
    {
     "data": {
      "image/png": "[encoded data removed]",
      "text/plain": [
       "<Figure size 432x288 with 1 Axes>"
      ]
     },
     "metadata": {
      "needs_background": "light"
     },
     "output_type": "display_data"
    }
   ],
   "source": [
    "loss.plot()"
   ]
  },
  {
   "cell_type": "code",
   "execution_count": 40,
   "id": "worst-petroleum",
   "metadata": {},
   "outputs": [],
   "source": [
    "model.save('./Dinosaur1.h5')"
   ]
  },
  {
   "cell_type": "code",
   "execution_count": 41,
   "id": "fitting-sight",
   "metadata": {},
   "outputs": [],
   "source": [
    "models = create_model(vocab_size,embed_dim,rnn_neurons,batch_size=1)\n",
    "models.load_weights('./Dinosaur1.h5')\n",
    "models.build(tf.TensorShape([1, None]))"
   ]
  },
  {
   "cell_type": "code",
   "execution_count": 42,
   "id": "square-finder",
   "metadata": {},
   "outputs": [],
   "source": [
    "from termcolor import colored"
   ]
  },
  {
   "cell_type": "code",
   "execution_count": 47,
   "id": "quick-latex",
   "metadata": {},
   "outputs": [],
   "source": [
    "def generate():\n",
    "    start_seed = input(\"Enter the start string:  \")\n",
    "    nc = int(input(\"Enter the number of characters: \"))\n",
    "    temp = float(input(\"Enter the entropy (float): \"))\n",
    "    new_string = generate_text(models,start_seed,nc,temp)\n",
    "    print(\"\\n\")\n",
    "    print(f\"We have a new dinosaur discovered!!! It is {colored(new_string,'red')}\")\n",
    "    print(\"\\n\")\n",
    "    response = input(\"Do you like it (y/n): \")\n",
    "    if response == 'n':\n",
    "        generate()\n",
    "    else:\n",
    "        print(\"Thanks\")\n",
    "        return 0"
   ]
  },
  {
   "cell_type": "code",
   "execution_count": 48,
   "id": "funded-publicity",
   "metadata": {},
   "outputs": [
    {
     "name": "stdout",
     "output_type": "stream",
     "text": [
      "Enter the start string:  raghav\n",
      "Enter the number of characters: 5\n",
      "Enter the entropy (float): 06\n",
      "\n",
      "\n",
      "We have a new dinosaur discovered!!! It is \u001b[31mraghavhdrrc\u001b[0m\n",
      "\n",
      "\n",
      "Do you like it (y/n): y\n",
      "Thanks\n"
     ]
    },
    {
     "data": {
      "text/plain": [
       "0"
      ]
     },
     "execution_count": 48,
     "metadata": {},
     "output_type": "execute_result"
    }
   ],
   "source": [
    "generate()"
   ]
  },
  {
   "cell_type": "code",
   "execution_count": null,
   "id": "eight-receiver",
   "metadata": {},
   "outputs": [],
   "source": []
  }
 ],
 "metadata": {
  "kernelspec": {
   "display_name": "Python 3",
   "language": "python",
   "name": "python3"
  },
  "language_info": {
   "codemirror_mode": {
    "name": "ipython",
    "version": 3
   },
   "file_extension": ".py",
   "mimetype": "text/x-python",
   "name": "python",
   "nbconvert_exporter": "python",
   "pygments_lexer": "ipython3",
   "version": "3.8.5"
  }
 },
 "nbformat": 4,
 "nbformat_minor": 5
}
